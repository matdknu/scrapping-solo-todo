{
 "cells": [
  {
   "cell_type": "markdown",
   "metadata": {},
   "source": [
    "# Scrapping a URL\n",
    "\n"
   ]
  },
  {
   "cell_type": "code",
   "execution_count": 87,
   "metadata": {},
   "outputs": [],
   "source": [
    "from selenium import webdriver\n",
    "from selenium.webdriver.chrome.service import Service\n",
    "from selenium.webdriver.common.by import By\n",
    "from webdriver_manager.chrome import ChromeDriverManager\n",
    "from bs4 import BeautifulSoup\n",
    "import pandas as pd\n",
    "import time\n",
    "\n",
    "# Configuración de Selenium con ChromeDriver Manager\n",
    "options = webdriver.ChromeOptions()\n",
    "options.add_argument('--headless')  # Ejecutar en modo sin cabeza\n",
    "options.add_argument('--no-sandbox')\n",
    "options.add_argument('--disable-dev-shm-usage')\n",
    "\n",
    "driver = webdriver.Chrome(service=Service(ChromeDriverManager().install()), options=options)\n"
   ]
  },
  {
   "cell_type": "code",
   "execution_count": 92,
   "metadata": {},
   "outputs": [
    {
     "name": "stdout",
     "output_type": "stream",
     "text": [
      "0    https://www.solotodo.cl/products/83233-lg-k51s...\n",
      "1    https://www.solotodo.cl/products/215742-bmobil...\n",
      "2    https://www.solotodo.cl/products/183579-motoro...\n",
      "3    https://www.solotodo.cl/products/235468-motoro...\n",
      "4    https://www.solotodo.cl/products/248505-motoro...\n",
      "Name: Link, dtype: object\n",
      "Tipo de product_links: <class 'list'>\n",
      "Contenido de product_links: ['https://www.solotodo.cl/products/83233-lg-k51s-k510hm-azul', 'https://www.solotodo.cl/products/215742-bmobile-c41-dark-gray', 'https://www.solotodo.cl/products/183579-motorola-moto-e13-64-gb-2-gb-aurora-green', 'https://www.solotodo.cl/products/235468-motorola-moto-g04-128-gb-4-gb-concord-black', 'https://www.solotodo.cl/products/248505-motorola-moto-e14-64-gb-2-gb-graphite-gray', 'https://www.solotodo.cl/products/245327-motorola-moto-g04s-128-gb-4-gb-concord-black-pb380028cl', 'https://www.solotodo.cl/products/227597-zte-blade-a54-128-gb-4-gb-black', 'https://www.solotodo.cl/products/155478-motorola-moto-e22i-64-gb-2-gb-graphite-gray', 'https://www.solotodo.cl/products/230200-samsung-galaxy-a05-a055-128-gb-4-gb-black', 'https://www.solotodo.cl/products/120167-vivo-y11s-32-gb-3-gb-nebula-blue', 'https://www.solotodo.cl/products/233174-honor-x5-plus-64-gb-4-gb-midnight-black', 'https://www.solotodo.cl/products/219218-motorola-moto-g14-128-gb-4-gb-steel-gray', 'https://www.solotodo.cl/products/153385-honor-x6-64-gb-4-gb-titanium-silver', 'https://www.solotodo.cl/products/154042-honor-x6s-128-gb-4-gb-titanium-silver', 'https://www.solotodo.cl/products/240844-xiaomi-redmi-a3-128-gb-4-gb-midnight-black', 'https://www.solotodo.cl/products/251788-zte-nubia-music-128-gb-4-gb-pop-art', 'https://www.solotodo.cl/products/252816-zte-blade-a75-5g-128-gb-4-gb-black', 'https://www.solotodo.cl/products/194145-oppo-a78-128-gb-4-gb-glowing-black', 'https://www.solotodo.cl/products/220497-xiaomi-redmi-a2-64-gb-2-gb-black', 'https://www.solotodo.cl/products/154443-samsung-galaxy-a04s-a047-128-gb-4-gb-black', 'https://www.solotodo.cl/products/235227-motorola-moto-g24-power-256-gb-4-gb-glacier-blue-pb1b0013cl', 'https://www.solotodo.cl/products/232192-samsung-galaxy-a05s-a057-128-gb-4-gb-black', 'https://www.solotodo.cl/products/223948-xiaomi-redmi-13c-256-gb-8-gb-black', 'https://www.solotodo.cl/products/170509-oppo-a17-64-gb-4-gb-midnight-black', 'https://www.solotodo.cl/products/214333-zte-a73-128-gb-4-gb-gray', 'https://www.solotodo.cl/products/254666-samsung-galaxy-a06-a065-128-gb-4-gb-negro', 'https://www.solotodo.cl/products/183709-xiaomi-redmi-12c-128-gb-4-gb-black', 'https://www.solotodo.cl/products/230667-samsung-galaxy-a15-a155-128-gb-4-gb-brave-black', 'https://www.solotodo.cl/products/225258-xiaomi-redmi-13c-128-gb-4-gb-black', 'https://www.solotodo.cl/products/235057-infinix-hot-40i-128-gb-4-gb-starlit-black', 'https://www.solotodo.cl/products/245329-xiaomi-redmi-13c-5g-128-gb-4-gb-black-55774', 'https://www.solotodo.cl/products/238726-zte-blade-v50-design-4g-256-gb-6-gb-beach-green', 'https://www.solotodo.cl/products/238786-honor-x6a-plus-128-gb-6-gb-sky-silver', 'https://www.solotodo.cl/products/199516-honor-x8a-5g-128-gb-6-gb-titanium-silver', 'https://www.solotodo.cl/products/181533-samsung-galaxy-a14-5g-a146-128-gb-4-gb-black', 'https://www.solotodo.cl/products/242941-umidigi-g1-32-gb-3-gb-galaxy-blue', 'https://www.solotodo.cl/products/240470-vivo-y03-128-gb-4-gb-gem-green', 'https://www.solotodo.cl/products/222014-vivo-y17s-128-gb-4-gb-forest-green', 'https://www.solotodo.cl/products/226513-xiaomi-poco-c65-128-gb-6-gb-black-51192', 'https://www.solotodo.cl/products/226512-xiaomi-poco-c65-256-gb-8-gb-black-51193', 'https://www.solotodo.cl/products/152986-xiaomi-redmi-10-5g-128-gb-4-gb-graphite-gray', 'https://www.solotodo.cl/products/255765-xiaomi-redmi-14c-128-gb-4-gb-midnight-black-58558', 'https://www.solotodo.cl/products/177967-honor-x7a-128-gb-6-gb-titanium-silver', 'https://www.solotodo.cl/products/234328-honor-x6a-plus-256-gb-6-gb-sky-silver', 'https://www.solotodo.cl/products/232518-samsung-galaxy-a15-5g-a156-128-gb-6-gb-brave-black', 'https://www.solotodo.cl/products/239149-tcl-50-se-256-gb-6-gb-space-gray', 'https://www.solotodo.cl/products/223343-oppo-a38-128-gb-4-gb-glowing-black', 'https://www.solotodo.cl/products/255785-xiaomi-redmi-14c-128-gb-4-gb-starry-blue-59112', 'https://www.solotodo.cl/products/230803-samsung-galaxy-a15-5g-a156-128-gb-4-gb-light-blue', 'https://www.solotodo.cl/products/229815-motorola-moto-g34-256-gb-8-gb-blue', 'https://www.solotodo.cl/products/191400-xiaomi-redmi-note-12-4g-128-gb-4-gb-matte-black', 'https://www.solotodo.cl/products/226251-infinix-hot-30-256-gb-8-gb-racing-black', 'https://www.solotodo.cl/products/153920-samsung-galaxy-a04-a045-64-gb-4-gb-black-beauty', 'https://www.solotodo.cl/products/210538-tcl-40r-128-gb-4-gb-stardust-purple', 'https://www.solotodo.cl/products/233327-oppo-a79-256-gb-8-gb-mystery-black', 'https://www.solotodo.cl/products/215244-vivo-y27-128-gb-6-gb-burgundy-black', 'https://www.solotodo.cl/products/255767-xiaomi-redmi-14c-256-gb-4-gb-midnight-black-58579', 'https://www.solotodo.cl/products/256681-motorola-moto-g35-128-gb-4-gb-midnight-black', 'https://www.solotodo.cl/products/248605-tcl-50-5g-256-gb-6-gb-space-gray', 'https://www.solotodo.cl/products/219547-xiaomi-redmi-12-128-gb-4-gb-black', 'https://www.solotodo.cl/products/247117-infinix-hot-40i-256-gb-8-gb-horizon-gold', 'https://www.solotodo.cl/products/252464-vivo-y18-128-gb-6-gb-mocha-brown', 'https://www.solotodo.cl/products/126308-vivo-y21s-midnight-blue', 'https://www.solotodo.cl/products/233341-vivo-y27-5g-128-gb-8-gb-mystic-black', 'https://www.solotodo.cl/products/255766-xiaomi-redmi-14c-256-gb-4-gb-starry-blue-59135', 'https://www.solotodo.cl/products/231711-xiaomi-redmi-note-13-4g-256-gb-8-gb-midnight-black-54860', 'https://www.solotodo.cl/products/241859-honor-90-smart-256-gb-6-gb-emerald-green', 'https://www.solotodo.cl/products/214006-xiaomi-redmi-12-256-gb-8-gb-black', 'https://www.solotodo.cl/products/79544-apple-iphone-se-2020-64-gb-white', 'https://www.solotodo.cl/products/231538-honor-x7b-256-gb-8-gb-flowing-silver', 'https://www.solotodo.cl/products/248029-multi-m23-pro-128-gb-8-gb-black', 'https://www.solotodo.cl/products/223342-oppo-a58-4g-128-gb-6-gb-glowing-black', 'https://www.solotodo.cl/products/130274-oppo-reno6-lite-128-gb-6-gb-rainbow-silver', 'https://www.solotodo.cl/products/250402-xiaomi-poco-m6-256-gb-8-gb-black-58259', 'https://www.solotodo.cl/products/202289-xiaomi-redmi-note-12s-256-gb-8-gb-onyx-black', 'https://www.solotodo.cl/products/215246-vivo-y27-5g-128-gb-4-gb-mystic-black', 'https://www.solotodo.cl/products/26004-lenovo-vibe-k5-plus-lemon-3-negro', 'https://www.solotodo.cl/products/121725-lenovo-vibe-k5-negro', 'https://www.solotodo.cl/products/220966-motorola-moto-g54-256-gb-8-gb-mint-green', 'https://www.solotodo.cl/products/256268-honor-x6b-256-gb-4-gb-forest-green', 'https://www.solotodo.cl/products/235025-xiaomi-poco-m6-pro-256-gb-8-gb-black-53043', 'https://www.solotodo.cl/products/245330-xiaomi-redmi-13c-5g-256-gb-8-gb-black-55773', 'https://www.solotodo.cl/products/130787-xiaomi-redmi-note-11-128-gb-4-gb-graphite-gray', 'https://www.solotodo.cl/products/146419-xiaomi-redmi-note-11s-5g-128-gb-6-gb-midnight-black', 'https://www.solotodo.cl/products/221410-honor-90-lite-256-gb-8-gb-midnight-black', 'https://www.solotodo.cl/products/256569-oppo-a40-256-gb-4-gb-nebula-red', 'https://www.solotodo.cl/products/86529-motorola-g9-play-64-gb-4-gb-spring-pink', 'https://www.solotodo.cl/products/221329-motorola-moto-g84-256-gb-8-gb-marshmallow-blue-payl0010cl', 'https://www.solotodo.cl/products/94986-samsung-galaxy-a12-a125-128-gb-4-gb-black', 'https://www.solotodo.cl/products/230204-samsung-galaxy-a25-128-gb-6-gb-brave-black', 'https://www.solotodo.cl/products/248604-tcl-40-nxtpaper-256-gb-8-gb-opalescent', 'https://www.solotodo.cl/products/250075-vivo-y18-256-gb-8-gb-wave-aqua', 'https://www.solotodo.cl/products/142360-xiaomi-redmi-note-11s-5g-128-gb-4-gb-midnight-black', 'https://www.solotodo.cl/products/80217-apple-iphone-se-2020-128-gb-black', 'https://www.solotodo.cl/products/195524-oppo-reno7-256-gb-8-gb-dawnlight-gold', 'https://www.solotodo.cl/products/217138-oppo-reno7-5g-256-gb-8-gb-dorado-alba', 'https://www.solotodo.cl/products/251329-vivo-y28s-256-gb-8-gb-mocha-brown', 'https://www.solotodo.cl/products/252565-zte-nubia-focus-256-gb-6-gb-black', 'https://www.solotodo.cl/products/82073-apple-iphone-se-2020-256-gb-product-red', 'https://www.solotodo.cl/products/124490-xiaomi-11-lite-5g-ne-128-gb-8-gb-snowflake-white', 'https://www.solotodo.cl/products/192752-samsung-galaxy-a54-5g-a546-256-gb-8-gb-awesome-graphite', 'https://www.solotodo.cl/products/118279-motorola-moto-g50-5g-128-gb-4-gb-steel-gray', 'https://www.solotodo.cl/products/81768-lg-k41s-k410hm-32-gb-3-gb-titanium', 'https://www.solotodo.cl/products/214679-vivo-y36-5g-256-gb-8-gb-crystal-green', 'https://www.solotodo.cl/products/227964-zte-axon-50-5g-256-gb-610-gb-black', 'https://www.solotodo.cl/products/231691-honor-x8b-256-gb-8-gb-cyan-lake', 'https://www.solotodo.cl/products/213605-infinix-note-30-256-gb-8-gb-obsidian-black', 'https://www.solotodo.cl/products/233160-samsung-galaxy-a15-5g-a156-256-gb-8-gb-magical-blue', 'https://www.solotodo.cl/products/134839-xiaomi-redmi-note-11-pro-128-gb-6-gb-graphite-gray', 'https://www.solotodo.cl/products/234324-xiaomi-redmi-note-13-pro-4g-256-gb-8-gb-midnight-black', 'https://www.solotodo.cl/products/39724-apple-iphone-8-64-gb-gold', 'https://www.solotodo.cl/products/123943-cyrus-cs22-xa-16-gb-2-gb-black', 'https://www.solotodo.cl/products/195263-xiaomi-redmi-note-12-pro-4g-256-gb-8-gb-glacier-blue', 'https://www.solotodo.cl/products/248489-zte-nubia-neo-2-256-gb-8-gb-gray', 'https://www.solotodo.cl/products/194104-xiaomi-redmi-12c-64-gb-4-gb-black', 'https://www.solotodo.cl/products/152363-xiaomi-redmi-10a-128-gb-4-gb-graphite-gray', 'https://www.solotodo.cl/products/235060-infinix-hot-40-pro-256-gb-8-gb-starlit-black', 'https://www.solotodo.cl/products/139244-xiaomi-redmi-10c-64-gb-4-gb-graphite-gray', 'https://www.solotodo.cl/products/130653-motorola-moto-g51-5g-128-gb-4-gb-blue', 'https://www.solotodo.cl/products/249920-motorola-moto-g85-256-gb-8-gb-cobalt-blue-pb290005cl', 'https://www.solotodo.cl/products/242939-umidigi-a15-256-gb-8-gb-graphite-black', 'https://www.solotodo.cl/products/231066-xiaomi-redmi-note-13-256-gb-8-gb-midnight-black-54670', 'https://www.solotodo.cl/products/52447-apple-iphone-xr-64-gb-black', 'https://www.solotodo.cl/products/192755-samsung-galaxy-a34-a346-128-gb-6-gb-black', 'https://www.solotodo.cl/products/248512-zte-nubia-focus-pro-256-gb-8-gb-black', 'https://www.solotodo.cl/products/170646-motorola-moto-g53-128-gb-4-gb-arctic-silver', 'https://www.solotodo.cl/products/57412-samsung-galaxy-s10-g975-128-gb-8-gb-prism-white', 'https://www.solotodo.cl/products/118710-vivo-v21-5g-128-gb-8-gb-sunset-dazzle', 'https://www.solotodo.cl/products/114409-xiaomi-redmi-note-10-5g-128-gb-4-gb-graphite-gray', 'https://www.solotodo.cl/products/66428-apple-iphone-11-64-gb-black', 'https://www.solotodo.cl/products/233320-samsung-galaxy-a25-256-gb-8-gb-optimistic-blue', 'https://www.solotodo.cl/products/251392-honor-200-lite-256-gb-8-gb-black', 'https://www.solotodo.cl/products/245984-motorola-edge-50-fusion-256-gb-8-gb-forest-blue', 'https://www.solotodo.cl/products/238602-samsung-galaxy-a35-a356-128-gb-6-gb-iceblue', 'https://www.solotodo.cl/products/220804-honor-90-512-gb-12-gb-emerald-green', 'https://www.solotodo.cl/products/256275-infinix-note-40x-5g-256-gb-8-gb-starlit-black', 'https://www.solotodo.cl/products/153316-samsung-galaxy-a23-5g-a236-128-gb-6-gb-black', 'https://www.solotodo.cl/products/243076-samsung-galaxy-a35-a356-128-gb-8-gb-iceblue', 'https://www.solotodo.cl/products/130318-samsung-galaxy-a71-5g-a715-6-gb-128-gb-prism-cube-black', 'https://www.solotodo.cl/products/215624-samsung-galaxy-s21-fe-5g-g990-256-gb-6-gb-graphite', 'https://www.solotodo.cl/products/234879-xiaomi-poco-x6-256-gb-8-gb-black', 'https://www.solotodo.cl/products/88025-apple-iphone-12-mini-64-gb-white', 'https://www.solotodo.cl/products/238061-xiaomi-redmi-13c-128-gb-8-gb-black', 'https://www.solotodo.cl/products/91975-samsung-galaxy-s20-fan-edition-5g-g781-128-gb-6-gb-cloud-navy', 'https://www.solotodo.cl/products/251330-tcl-50-pro-nxtpaper-5g-512-gb-8-gb-gray', 'https://www.solotodo.cl/products/154175-vivo-y22s-128-gb-6-gb-starlit-blue', 'https://www.solotodo.cl/products/249928-vivo-y38-256-gb-8-gb-ocean-blue', 'https://www.solotodo.cl/products/211384-motorola-edge-40-256-gb-8-gb-viva-magenta', 'https://www.solotodo.cl/products/122836-vivo-y53s-4g-128-gb-8-gb-blue-purple', 'https://www.solotodo.cl/products/135663-apple-iphone-se-2022-64-gb-black', 'https://www.solotodo.cl/products/230009-huawei-nova-11-256-gb-8-gb-black', 'https://www.solotodo.cl/products/243353-huawei-nova-12-se-256-gb-8-gb-black', 'https://www.solotodo.cl/products/230900-vivo-v30-lite-256-gb-12-gb-forest-black', 'https://www.solotodo.cl/products/153778-xiaomi-12t-256-gb-8-gb-black', 'https://www.solotodo.cl/products/240403-xiaomi-redmi-note-13-pro-256-gb-8-gb-aurora-purple', 'https://www.solotodo.cl/products/247110-xiaomi-poco-x6-256-gb-12-gb-blue', 'https://www.solotodo.cl/products/191435-xiaomi-redmi-note-12-pro-5g-256-gb-8-gb-onyx-black', 'https://www.solotodo.cl/products/232186-honor-magic6-lite-256-gb-8-gb-emerald-green', 'https://www.solotodo.cl/products/186317-xiaomi-poco-x5-pro-256-gb-8-gb-blue', 'https://www.solotodo.cl/products/191434-xiaomi-redmi-note-12-pro-5g-256-gb-8-gb-iceberg-blue', 'https://www.solotodo.cl/products/238609-samsung-galaxy-a35-a356-256-gb-8-gb-navy', 'https://www.solotodo.cl/products/247411-infinix-note-40-5g-256-gb-12-gb-titan-gold', 'https://www.solotodo.cl/products/240469-oppo-reno11-f-256-gb-8-gb-palm-green', 'https://www.solotodo.cl/products/219717-xiaomi-13t-256-gb-12-gb-black', 'https://www.solotodo.cl/products/91718-vivo-v20-128-gb-midnight-jazz', 'https://www.solotodo.cl/products/96935-samsung-galaxy-s21-5g-g996-128-gb-8-gb-phantom-black', 'https://www.solotodo.cl/products/131607-samsung-galaxy-s22-5g-s901-128-gb-8-gb-black', 'https://www.solotodo.cl/products/217835-oppo-reno10-256-gb-8-gb-silvery-grey', 'https://www.solotodo.cl/products/66427-apple-iphone-11-128-gb-black', 'https://www.solotodo.cl/products/256683-vivo-v40-lite-256-gb-8-gb-titanium-silver', 'https://www.solotodo.cl/products/88024-apple-iphone-12-64-gb-black', 'https://www.solotodo.cl/products/227471-infinix-zero-30-256-gb-12-gb-fantasy-purple', 'https://www.solotodo.cl/products/88909-apple-iphone-12-mini-128-gb-black', 'https://www.solotodo.cl/products/238656-samsung-galaxy-a55-a556-128-gb-8-gb-iceblue', 'https://www.solotodo.cl/products/64832-samsung-galaxy-note10-n975-256-gb-12-gb-aura-black', 'https://www.solotodo.cl/products/232193-xiaomi-poco-x6-pro-512-gb-12-gb-black-51648', 'https://www.solotodo.cl/products/133886-xiaomi-redmi-note-11s-128-gb-6-gb-graphite-gray-37937', 'https://www.solotodo.cl/products/238734-samsung-galaxy-a55-a556-256-gb-8-gb-iceblue', 'https://www.solotodo.cl/products/222323-motorola-edge-40-neo-256-gb-8-gb-caneel-bay-payh0071cl', 'https://www.solotodo.cl/products/129904-motorola-moto-g71-5g-128-gb-6-gb-arctic-blue', 'https://www.solotodo.cl/products/188008-samsung-galaxy-s20-ultra-5g-g988-128-gb-12-gb-cosmic-black', 'https://www.solotodo.cl/products/210438-xiaomi-poco-f5-256-gb-12-gb-black', 'https://www.solotodo.cl/products/81065-xiaomi-redmi-note-9-pro-128-gb-6-gb-tropical-green', 'https://www.solotodo.cl/products/92314-apple-iphone-12-mini-256-gb-blue', 'https://www.solotodo.cl/products/146261-xiaomi-12-lite-128-gb-8-gb-black', 'https://www.solotodo.cl/products/88907-apple-iphone-12-128-gb-black', 'https://www.solotodo.cl/products/243355-huawei-nova-12s-256-gb-8-gb-blue', 'https://www.solotodo.cl/products/96946-samsung-galaxy-s21-ultra-5g-g998-128-gb-12-gb-phantom-silver', 'https://www.solotodo.cl/products/66439-apple-iphone-11-pro-256-gb-space-gray', 'https://www.solotodo.cl/products/247104-xiaomi-poco-f6-256-gb-8-gb-black', 'https://www.solotodo.cl/products/131641-samsung-galaxy-s22-5g-s906-128-gb-8-gb-black', 'https://www.solotodo.cl/products/247478-zte-nubia-flip-256-gb-8-gb-cosmic-black', 'https://www.solotodo.cl/products/48268-lg-g7-thinq-g710-new-aurora-black', 'https://www.solotodo.cl/products/241001-motorola-edge-50-pro-512-gb-12-gb-black-beauty', 'https://www.solotodo.cl/products/247119-infinix-gt-20-pro-256-gb-12-gb-mecha-orange', 'https://www.solotodo.cl/products/85266-samsung-galaxy-note20-ultra-n985-256-gb-8-gb-mystic-black', 'https://www.solotodo.cl/products/217206-vivo-v29-256-gb-8-gb-himalayan-blue', 'https://www.solotodo.cl/products/136157-xiaomi-12-pro-256-gb-12-gb-blue', 'https://www.solotodo.cl/products/66473-apple-iphone-11-pro-64-gb-silver', 'https://www.solotodo.cl/products/92001-apple-iphone-12-256-gb-black', 'https://www.solotodo.cl/products/90226-apple-iphone-12-pro-128-gb-pacific-blue', 'https://www.solotodo.cl/products/251656-honor-200-256-gb-12-gb-emerald-green-5109bfnx', 'https://www.solotodo.cl/products/134210-xiaomi-redmi-note-11-pro-5g-128-gb-6-gb-graphite-gray', 'https://www.solotodo.cl/products/232024-xiaomi-redmi-note-13-pro-512-gb-12-gb-aurora-purple-50727', 'https://www.solotodo.cl/products/123357-apple-iphone-13-128-gb-midnight', 'https://www.solotodo.cl/products/256684-motorola-edge-50-256-gb-12-gb-jungle-green', 'https://www.solotodo.cl/products/222554-samsung-galaxy-s23-fe-s711-128-gb-8-gb-graphite', 'https://www.solotodo.cl/products/256567-oppo-reno12-f-256-gb-8-gb-olive-green', 'https://www.solotodo.cl/products/192753-samsung-galaxy-a54-5g-a546-128-gb-6-gb-awesome-graphite', 'https://www.solotodo.cl/products/245632-ulefone-armor-8-pro-128-gb-8-gb-black', 'https://www.solotodo.cl/products/131649-samsung-galaxy-s22-ultra-5g-s908-128-gb-8-gb-black', 'https://www.solotodo.cl/products/256777-motorola-edge-50-512-gb-12-gb-jungle-green', 'https://www.solotodo.cl/products/148880-samsung-galaxy-z-flip4-f721-256-gb-8-gb-graphite-sm-f721bzakbvo', 'https://www.solotodo.cl/products/254828-xiaomi-14t-512-gb-12-gb-titanium-black', 'https://www.solotodo.cl/products/90884-apple-iphone-12-pro-256-gb-pacific-blue', 'https://www.solotodo.cl/products/92290-apple-iphone-12-pro-max-128-gb-gold', 'https://www.solotodo.cl/products/123355-apple-iphone-13-256-gb-midnight', 'https://www.solotodo.cl/products/135671-apple-iphone-13-mini-128-gb-green', 'https://www.solotodo.cl/products/175925-samsung-galaxy-s23-s911-256-gb-8-gb-phantom-black', 'https://www.solotodo.cl/products/247105-xiaomi-poco-f6-512-gb-12-gb-black', 'https://www.solotodo.cl/products/230428-samsung-galaxy-s24-s921-128-gb-8-gb-marble-gray', 'https://www.solotodo.cl/products/233979-vivo-v30-512-gb-12-gb-noble-black', 'https://www.solotodo.cl/products/175923-samsung-galaxy-s23-s911-128-gb-8-gb-phantom-black', 'https://www.solotodo.cl/products/232813-xiaomi-redmi-note-13-pro-256-gb-12-gb-midnight-black', 'https://www.solotodo.cl/products/123382-apple-iphone-13-512-gb-midnight', 'https://www.solotodo.cl/products/150577-apple-iphone-14-128-gb-purple', 'https://www.solotodo.cl/products/123370-apple-iphone-13-mini-256-gb-starlight', 'https://www.solotodo.cl/products/175932-samsung-galaxy-s23-s916-256-gb-8-gb-phantom-black', 'https://www.solotodo.cl/products/150632-apple-iphone-14-plus-256-gb-blue', 'https://www.solotodo.cl/products/66442-apple-iphone-11-pro-max-256-gb-space-gray', 'https://www.solotodo.cl/products/222555-samsung-galaxy-s23-fe-s711-256-gb-8-gb-graphite', 'https://www.solotodo.cl/products/255751-samsung-galaxy-s24-fe-s721-256-gb-8-gb-blue', 'https://www.solotodo.cl/products/135667-apple-iphone-se-2022-128-gb-white', 'https://www.solotodo.cl/products/135575-xiaomi-12-256-gb-8-gb-blue', 'https://www.solotodo.cl/products/246769-xiaomi-poco-f6-pro-512-gb-12-gb-black', 'https://www.solotodo.cl/products/213481-samsung-galaxy-z-flip5-f731-256-gb-8-gb-mint', 'https://www.solotodo.cl/products/249181-motorola-edge-50-ultra-512-gb-12-gb-peach-fuzz', 'https://www.solotodo.cl/products/122105-apple-iphone-13-pro-128-gb-graphite', 'https://www.solotodo.cl/products/150627-apple-iphone-14-plus-128-gb-midnight', 'https://www.solotodo.cl/products/186901-motorola-thinkphone-256-gb-8-gb-carbon-black-pawn0012cl', 'https://www.solotodo.cl/products/61368-samsung-galaxy-fold-f900-cosmos-black', 'https://www.solotodo.cl/products/256144-samsung-galaxy-s24-fe-s721-128-gb-8-gb-graphite', 'https://www.solotodo.cl/products/249744-motorola-razr-50-512-gb-12-gb-beach-sand', 'https://www.solotodo.cl/products/133883-samsung-galaxy-note20-n980-256-gb-6-gb-mystic-gray', 'https://www.solotodo.cl/products/153780-vivo-v25-128-gb-8-gb-elegant-black', 'https://www.solotodo.cl/products/92878-apple-iphone-12-pro-max-256-gb-graphite', 'https://www.solotodo.cl/products/226115-xiaomi-13t-pro-512-gb-12-gb-meadow-green', 'https://www.solotodo.cl/products/254829-xiaomi-14t-pro-512-gb-12-gb-titanium-black', 'https://www.solotodo.cl/products/122108-apple-iphone-13-pro-max-128-gb-silver', 'https://www.solotodo.cl/products/221873-apple-iphone-15-128-gb-blue', 'https://www.solotodo.cl/products/95191-samsung-galaxy-s21-5g-g991-128-gb-8-gb-phantom-gray', 'https://www.solotodo.cl/products/175939-samsung-galaxy-s23-ultra-s918-256-gb-8-gb-phantom-black', 'https://www.solotodo.cl/products/122099-apple-iphone-13-pro-256-gb-graphite', 'https://www.solotodo.cl/products/237635-xiaomi-redmi-note-13-4g-128-gb-6-gb-midnight-black', 'https://www.solotodo.cl/products/238458-xiaomi-redmi-note-13-pro-512-gb-12-gb-aurora-purple', 'https://www.solotodo.cl/products/175934-samsung-galaxy-s23-s916-512-gb-8-gb-cream', 'https://www.solotodo.cl/products/150608-apple-iphone-14-pro-128-gb-deep-purple', 'https://www.solotodo.cl/products/230441-samsung-galaxy-s24-s926-512-gb-12-gb-cobalt-violet', 'https://www.solotodo.cl/products/97151-apple-iphone-12-pro-max-512-gb-graphite', 'https://www.solotodo.cl/products/118180-samsung-galaxy-z-flip3-5g-f711-256-gb-8-gb-cream', 'https://www.solotodo.cl/products/251462-honor-200-pro-512-gb-12-gb-ocean-cyan', 'https://www.solotodo.cl/products/75038-samsung-galaxy-s20-g980-128-gb-8-gb-cloud-pink', 'https://www.solotodo.cl/products/92004-apple-iphone-12-pro-512-gb-graphite', 'https://www.solotodo.cl/products/221854-apple-iphone-15-plus-128-gb-pink', 'https://www.solotodo.cl/products/135662-apple-iphone-se-2022-256-gb-black', 'https://www.solotodo.cl/products/188527-apple-iphone-14-256-gb-yellow', 'https://www.solotodo.cl/products/150605-apple-iphone-14-pro-max-128-gb-gold', 'https://www.solotodo.cl/products/150637-apple-iphone-14-plus-512-gb-blue', 'https://www.solotodo.cl/products/252408-honor-200-pro-256-gb-12-gb-ocean-cyan', 'https://www.solotodo.cl/products/230425-samsung-galaxy-s24-s921-256-gb-8-gb-amber-yellow', 'https://www.solotodo.cl/products/213594-samsung-galaxy-z-flip5-f731-512-gb-8-gb-graphite', 'https://www.solotodo.cl/products/243351-huawei-pura-70-pro-512-gb-12-gb-white', 'https://www.solotodo.cl/products/241657-xiaomi-14-512-gb-12-gb-black', 'https://www.solotodo.cl/products/118185-samsung-galaxy-z-fold3-5g-f926-256-gb-12-gb-phantom-black', 'https://www.solotodo.cl/products/175940-samsung-galaxy-s23-ultra-s918-512-gb-12-gb-phantom-black', 'https://www.solotodo.cl/products/211538-motorola-razr-40-ultra-512-gb-12-gb-infinite-black', 'https://www.solotodo.cl/products/148869-samsung-galaxy-z-fold4-5g-f936-256-gb-12-gb-phantom-black-sm-f936bzkjbvo', 'https://www.solotodo.cl/products/123392-apple-iphone-13-pro-max-512-gb-sierra-blue', 'https://www.solotodo.cl/products/150587-apple-iphone-14-512-gb-red', 'https://www.solotodo.cl/products/222169-apple-iphone-15-pro-128-gb-black-titanium', 'https://www.solotodo.cl/products/248434-motorola-razr-50-ultra-512-gb-12-gb-midnight-blue', 'https://www.solotodo.cl/products/131642-samsung-galaxy-s22-5g-s906-256-gb-8-gb-black', 'https://www.solotodo.cl/products/123390-apple-iphone-13-pro-512-gb-gold', 'https://www.solotodo.cl/products/220521-apple-iphone-15-pro-256-gb-black-titanium', 'https://www.solotodo.cl/products/230438-samsung-galaxy-s24-s926-256-gb-12-gb-amber-yellow', 'https://www.solotodo.cl/products/239949-honor-magic6-pro-512-gb-12-gb-green', 'https://www.solotodo.cl/products/122106-apple-iphone-13-pro-max-256-gb-sierra-blue', 'https://www.solotodo.cl/products/221866-apple-iphone-15-256-gb-pink', 'https://www.solotodo.cl/products/230462-samsung-galaxy-s24-ultra-s928-512-gb-12-gb-titanium-black', 'https://www.solotodo.cl/products/249779-zte-nubia-red-magic-9-pro-256-gb-12-gb-cyclone', 'https://www.solotodo.cl/products/150600-apple-iphone-14-pro-max-256-gb-space-black', 'https://www.solotodo.cl/products/254398-apple-iphone-16-128-gb-pink', 'https://www.solotodo.cl/products/221661-apple-iphone-15-pro-max-256-gb-black-titanium', 'https://www.solotodo.cl/products/201368-honor-magic5-pro-512-gb-12-gb-meadow-green', 'https://www.solotodo.cl/products/186812-samsung-galaxy-s23-ultra-s918-256-gb-12-gb-phantom-black', 'https://www.solotodo.cl/products/131663-samsung-galaxy-s22-ultra-5g-s908-256-gb-12-gb-white', 'https://www.solotodo.cl/products/221851-apple-iphone-15-plus-256-gb-green', 'https://www.solotodo.cl/products/213601-samsung-galaxy-z-fold5-f946-256-gb-12-gb-icy-blue', 'https://www.solotodo.cl/products/230452-samsung-galaxy-s24-ultra-s928-256-gb-12-gb-titanium-black', 'https://www.solotodo.cl/products/241131-xiaomi-14-ultra-512-gb-16-gb-black', 'https://www.solotodo.cl/products/123368-apple-iphone-13-mini-512-gb-midnight', 'https://www.solotodo.cl/products/150598-apple-iphone-14-pro-max-512-gb-gold', 'https://www.solotodo.cl/products/254415-apple-iphone-16-plus-128-gb-ultramarine', 'https://www.solotodo.cl/products/254401-apple-iphone-16-256-gb-black', 'https://www.solotodo.cl/products/213602-samsung-galaxy-z-fold5-f946-512-gb-12-gb-icy-blue', 'https://www.solotodo.cl/products/150612-apple-iphone-14-pro-256-gb-deep-purple', 'https://www.solotodo.cl/products/254815-xiaomi-mix-flip-512-gb-12-gb-black', 'https://www.solotodo.cl/products/150618-apple-iphone-14-pro-512-gb-gold', 'https://www.solotodo.cl/products/221878-apple-iphone-15-512-gb-black', 'https://www.solotodo.cl/products/220519-apple-iphone-15-pro-512-gb-black-titanium', 'https://www.solotodo.cl/products/254416-apple-iphone-16-plus-256-gb-black', 'https://www.solotodo.cl/products/220528-apple-iphone-15-pro-max-512-gb-natural-titanium', 'https://www.solotodo.cl/products/221843-apple-iphone-15-pro-1-tb-black-titanium', 'https://www.solotodo.cl/products/252730-samsung-galaxy-z-flip6-f741-256-gb-12-gb-crafted-black', 'https://www.solotodo.cl/products/254427-apple-iphone-16-pro-128-gb-black-titanium', 'https://www.solotodo.cl/products/221855-apple-iphone-15-plus-512-gb-black', 'https://www.solotodo.cl/products/254406-apple-iphone-16-512-gb-black', 'https://www.solotodo.cl/products/252733-samsung-galaxy-z-flip6-f741-512-gb-12-gb-crafted-black', 'https://www.solotodo.cl/products/254430-apple-iphone-16-pro-256-gb-black-titanium', 'https://www.solotodo.cl/products/254417-apple-iphone-16-plus-512-gb-black', 'https://www.solotodo.cl/products/247631-apple-iphone-15-pro-max-128-gb-black-titanium', 'https://www.solotodo.cl/products/254443-apple-iphone-16-pro-max-256-gb-black-titanium', 'https://www.solotodo.cl/products/221833-apple-iphone-15-pro-max-1-tb-black-titanium', 'https://www.solotodo.cl/products/230469-samsung-galaxy-s24-ultra-s928-1-tb-12-gb-titanium-black', 'https://www.solotodo.cl/products/254433-apple-iphone-16-pro-512-gb-desert-titanium', 'https://www.solotodo.cl/products/123386-apple-iphone-13-pro-1-tb-graphite', 'https://www.solotodo.cl/products/254449-apple-iphone-16-pro-max-512-gb-desert-titanium', 'https://www.solotodo.cl/products/254432-apple-iphone-16-pro-1-tb-black-titanium', 'https://www.solotodo.cl/products/254447-apple-iphone-16-pro-max-1-tb-black-titanium', 'https://www.solotodo.cl/products/252722-samsung-galaxy-z-fold6-f956-256-gb-12-gb-crafted-black', 'https://www.solotodo.cl/products/252724-samsung-galaxy-z-fold6-f956-512-gb-12-gb-crafted-black', 'https://www.solotodo.cl/products/252729-samsung-galaxy-z-fold6-f956-1-tb-12-gb-silver-shadow']\n"
     ]
    }
   ],
   "source": [
    "import pandas as pd\n",
    "\n",
    "# Cargar el archivo CSV\n",
    "df = pd.read_csv('bbdd/productos_link.csv', sep=';')  # Ajusta el delimitador si es necesario\n",
    "\n",
    "df['Link'] = df['Link'].apply(lambda x: 'https://www.solotodo.cl' + x if x.startswith('/product') else x)\n",
    "\n",
    "# Verificar los primeros resultados\n",
    "print(df['Link'].head())\n",
    "\n",
    "\n",
    "# Convertir la columna 'Link' de product_links a una lista\n",
    "product_links = df['Link'].tolist()\n",
    "\n",
    "# Verificar el tipo y contenido de product_links2\n",
    "print(\"Tipo de product_links:\", type(product_links))\n",
    "print(\"Contenido de product_links:\", product_links)\n",
    "\n"
   ]
  },
  {
   "cell_type": "code",
   "execution_count": 93,
   "metadata": {},
   "outputs": [],
   "source": [
    "# Lista de tiendas y marcas de interés\n",
    "relevant_entities = [\n",
    "    \"hites\", \"abcdin\", \"lider\", \"paris\", \"ripley\", \"falabella\", \"walmart\", \"jumbo\",\n",
    "    \"samsung\", \"motorola\", \"xiaomi\", \"oppo\", \"honor\", \"huawei\", \"apple\", \"realme\", \"oneplus\", \"nokia\", \"sony\", \"lg\"\n",
    "]"
   ]
  },
  {
   "cell_type": "code",
   "execution_count": 94,
   "metadata": {},
   "outputs": [],
   "source": [
    "# Lista para almacenar los datos extraídos\n",
    "data = []\n",
    "\n",
    "# Recorrer cada enlace de producto\n",
    "for link in product_links:\n",
    "    driver.get(link)\n",
    "    time.sleep(2)  # Espera para que la página de cada producto cargue\n",
    "    \n",
    "    # Extraer la información HTML de la página con BeautifulSoup\n",
    "    soup = BeautifulSoup(driver.page_source, 'html.parser')\n",
    "    \n",
    "    # Extraer el nombre del equipo\n",
    "    equipo = soup.find('h2').get_text(strip=True) if soup.find('h2') else \"Equipo no disponible\"\n",
    "    \n",
    "    # Inicializar diccionario para almacenar especificaciones del producto\n",
    "    product_data = {\n",
    "        'URL': link,\n",
    "        'Equipo': equipo,\n",
    "        'Pantalla': None,\n",
    "        'Memoria_interna': None,\n",
    "        'RAM': None,\n",
    "        'Cámara_principal': None,\n",
    "        'Cámara_frontal': None,\n",
    "        'Batería': None,\n",
    "        'Sistema_operativo': None,\n",
    "        'Conectividad_celular': None,\n",
    "        'Procesador': None,\n",
    "        'CPU': None,\n",
    "        'GPU': None,\n",
    "        'Peso': None,\n",
    "        'Tamaño': None,\n",
    "        'Soporte_eSIM': None,\n",
    "        'Potencia_de_carga': None,\n",
    "        'Almacenamiento_externo': None,\n",
    "        'Conector_de_audífonos': None,\n",
    "        'Wi-Fi': None,\n",
    "        'GPS': None,\n",
    "        'NFC': None,\n",
    "        'Bluetooth': None,\n",
    "        'Lector_de_huellas_digitales': None,\n",
    "        'Tiendas_y_Precios': None\n",
    "    }\n",
    "    # Función auxiliar para extraer valores de cada sección\n",
    "    def extract_spec(section, product_data):\n",
    "        for dt, dd in zip(section.find_all(\"dt\"), section.find_all(\"dd\")):\n",
    "            key = dt.get_text(strip=True).replace(\" \", \"_\").replace(\".\", \"\").replace(\"(\", \"\").replace(\")\", \"\")\n",
    "            value = dd.get_text(strip=True)\n",
    "            if key in product_data:\n",
    "                product_data[key] = value\n",
    "\n",
    "    # Extraer cada sección de características\n",
    "    sections = soup.find_all(\"div\", class_=\"col-12\")\n",
    "    for section in sections:\n",
    "        header = section.find(\"h3\").get_text(strip=True) if section.find(\"h3\") else \"\"\n",
    "        if \"Características\" in header:\n",
    "            extract_spec(section, product_data)\n",
    "        elif \"Características avanzadas\" in header:\n",
    "            extract_spec(section, product_data)\n",
    "        elif \"Accesorios\" in header:\n",
    "            extract_spec(section, product_data)\n",
    "\n",
    "    # Extraer tiendas y precios en una sola celda, filtrando por entidades relevantes\n",
    "    tiendas_precios = []\n",
    "    for store_section in soup.find_all('a', href=True):\n",
    "        store_link = store_section['href']\n",
    "        \n",
    "        # Validar si el enlace contiene alguna tienda o marca relevante y no está vacío\n",
    "        if any(entity in store_link.lower() for entity in relevant_entities):\n",
    "            # Extraer nombre de la tienda y precio solo si existen y no están vacíos\n",
    "            tienda = store_section.find('p', class_='storeName').get_text(strip=True) if store_section.find('p', class_='storeName') else \"Desconocida\"\n",
    "            precio = store_section.find('h2', class_='MuiTypography-h2').get_text(strip=True) if store_section.find('h2', class_='MuiTypography-h2') else \"Precio no disponible\"\n",
    "            if tienda != \"Desconocida\" and precio != \"Precio no disponible\":\n",
    "                tiendas_precios.append(f\"{tienda}: {precio} ({store_link})\")\n",
    "\n",
    "    # Combinar tiendas y precios en una sola celda\n",
    "    product_data['Tiendas_y_Precios'] = \"; \".join(tiendas_precios) if tiendas_precios else \"Sin datos de precios\"\n",
    "\n",
    "    # Agregar el diccionario del producto a la lista de datos\n",
    "    data.append(product_data)\n",
    "\n",
    "# Guardar los datos en un archivo CSV\n",
    "df = pd.DataFrame(data)\n",
    "\n"
   ]
  },
  {
   "cell_type": "code",
   "execution_count": 1,
   "metadata": {},
   "outputs": [
    {
     "ename": "NameError",
     "evalue": "name 'df' is not defined",
     "output_type": "error",
     "traceback": [
      "\u001b[0;31m---------------------------------------------------------------------------\u001b[0m",
      "\u001b[0;31mNameError\u001b[0m                                 Traceback (most recent call last)",
      "Cell \u001b[0;32mIn[1], line 1\u001b[0m\n\u001b[0;32m----> 1\u001b[0m \u001b[38;5;28mprint\u001b[39m(\u001b[43mdf\u001b[49m)\n",
      "\u001b[0;31mNameError\u001b[0m: name 'df' is not defined"
     ]
    }
   ],
   "source": [
    "print(df)"
   ]
  },
  {
   "cell_type": "code",
   "execution_count": 100,
   "metadata": {},
   "outputs": [],
   "source": [
    "df.to_csv(\"bbdd/productos_celulares.csv\", sep=\";\", index=False, encoding=\"utf-8\")\n"
   ]
  }
 ],
 "metadata": {
  "kernelspec": {
   "display_name": "Python 3",
   "language": "python",
   "name": "python3"
  },
  "language_info": {
   "codemirror_mode": {
    "name": "ipython",
    "version": 3
   },
   "file_extension": ".py",
   "mimetype": "text/x-python",
   "name": "python",
   "nbconvert_exporter": "python",
   "pygments_lexer": "ipython3",
   "version": "3.12.4"
  }
 },
 "nbformat": 4,
 "nbformat_minor": 2
}
