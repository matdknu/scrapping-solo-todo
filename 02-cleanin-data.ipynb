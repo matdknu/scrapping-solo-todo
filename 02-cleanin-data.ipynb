{
 "cells": [
  {
   "cell_type": "markdown",
   "metadata": {},
   "source": [
    "## Cleaning Data\n"
   ]
  },
  {
   "cell_type": "code",
   "execution_count": 11,
   "metadata": {},
   "outputs": [],
   "source": [
    "import pandas as pd\n",
    "import numpy as np\n",
    "import re\n",
    "import matplotlib.pyplot as plt\n",
    "import pandas as pd\n",
    "import matplotlib.pyplot as plt\n",
    "import seaborn as sns\n",
    "import os\n",
    "from sklearn.model_selection import train_test_split\n",
    "from sklearn.preprocessing import StandardScaler, OneHotEncoder\n",
    "from sklearn.compose import ColumnTransformer\n",
    "from sklearn.pipeline import Pipeline\n",
    "from sklearn.impute import SimpleImputer\n",
    "from sklearn.ensemble import RandomForestRegressor\n",
    "from sklearn.metrics import mean_absolute_error\n",
    "\n"
   ]
  },
  {
   "cell_type": "code",
   "execution_count": 12,
   "metadata": {},
   "outputs": [],
   "source": [
    "# Cargar el archivo CSV\n",
    "df = pd.read_csv('bbdd/productos_celulares.csv', sep=';')  # Ajusta el delimitador si es necesario\n",
    "\n",
    "# Supongamos que df es tu DataFrame\n",
    "df.columns = df.columns.str.lower()\n"
   ]
  },
  {
   "cell_type": "markdown",
   "metadata": {},
   "source": [
    "Se debe realizar una limpieza de la base de de datos, en particular la variables tiendas y precios. "
   ]
  },
  {
   "cell_type": "code",
   "execution_count": 13,
   "metadata": {},
   "outputs": [],
   "source": [
    "# 1. Dividir la columna 'tiendas_y_precios' en múltiples columnas usando ';' como delimitador\n",
    "tiendas_precios_split = df['tiendas_y_precios'].str.split(';', expand=True)\n",
    "\n",
    "# 2. Renombrar las nuevas columnas de forma dinámica como 'tiendas_y_precios1', 'tiendas_y_precios2', etc.\n",
    "tiendas_precios_split.columns = [f'tiendas_y_precios{i+1}' for i in range(tiendas_precios_split.shape[1])]\n",
    "\n",
    "# 3. Concatenar las columnas divididas al DataFrame original\n",
    "df = pd.concat([df, tiendas_precios_split], axis=1)\n",
    "\n",
    "# 4. Definir una función para extraer tienda, precio y la presencia de la palabra \"liberado\"\n",
    "def extraer_tienda_precio_liberado(texto):\n",
    "    if isinstance(texto, str):  # Verifica si es una cadena de texto\n",
    "        match = re.search(r'(.+): \\$(\\d+\\.?\\d*)', texto)\n",
    "        liberado = 1 if \"liberado\" in texto.lower() else 0  # Verifica si contiene \"liberado\"\n",
    "        \n",
    "        if match:\n",
    "            tienda = match.group(1).strip()\n",
    "            precio = float(match.group(2).replace(\".\", \"\"))\n",
    "            return tienda, precio, liberado\n",
    "    return None, None, 0\n",
    "\n",
    "# 5. Aplicar la función a cada columna que empieza con \"tiendas_y_precios\" y crear columnas 'tienda_n', 'precio_n', 'liberado_n'\n",
    "for i, col in enumerate(tiendas_precios_split.columns, start=1):\n",
    "    df[[f'tienda{i}', f'precio{i}', f'liberado{i}']] = df[col].apply(lambda x: pd.Series(extraer_tienda_precio_liberado(x)))\n",
    "\n",
    "# 6. (Opcional) Eliminar las columnas intermedias 'tiendas_y_precios1', 'tiendas_y_precios2', etc.\n",
    "df.drop(columns=tiendas_precios_split.columns, inplace=True)\n",
    "\n",
    "# Mostrar el DataFrame resultante\n",
    "#df.head()\n"
   ]
  },
  {
   "cell_type": "markdown",
   "metadata": {},
   "source": [
    "El Scrapping, lamentablemente, tuvo el problema de precios en valores perdidos. \n",
    "Para modelar de mejor manera se procedió a pivotear la base de datos, es decir, transformarla de largo a ancho. \n",
    "En total se quedó en 1659 celulares ofrecidos, en términos del cruce que existe con los modelos y las marcas que lo ofrcen. "
   ]
  },
  {
   "cell_type": "code",
   "execution_count": 14,
   "metadata": {},
   "outputs": [],
   "source": [
    "# Convertir de formato ancho a largo\n",
    "df_long = pd.wide_to_long(df.reset_index(), \n",
    "                          stubnames=['tienda', 'precio', 'liberado'], \n",
    "                          i='index', \n",
    "                          j='variable', \n",
    "                          sep='',\n",
    "                          suffix='\\d+').reset_index()\n",
    "\n",
    "\n",
    "#print(df_long)\n"
   ]
  },
  {
   "cell_type": "markdown",
   "metadata": {},
   "source": [
    "**Se procede a limpiar el resto de las variables**\n",
    "\n",
    "Es importante intentar limpiar el texto correspondiente. "
   ]
  },
  {
   "cell_type": "code",
   "execution_count": 15,
   "metadata": {},
   "outputs": [],
   "source": [
    "df_long['camara'] = df_long['cámara_principal'].str.extract(r\"(?<=Estándar )([0-9.]+)(?= MP)\").astype(float)\n",
    "\n",
    "# Extraer solo el valor numérico de la columna Batería y convertir a numérico\n",
    "df_long['bateria'] = df_long['batería'].str.extract(r\"(\\d+)\").astype(float)\n",
    "\n",
    "# Extraer solo el valor numérico de la columna Memoria_interna y convertir a numérico\n",
    "df_long['memoria'] = df_long['memoria_interna'].str.extract(r\"(\\d+)\").astype(float)\n",
    "\n",
    "# Extraer solo el valor numérico de la columna Potencia_de_carga y convertir a numérico\n",
    "df_long['potencia'] = df_long['potencia_de_carga'].str.extract(r\"(\\d+)\").astype(float)"
   ]
  },
  {
   "cell_type": "code",
   "execution_count": 9,
   "metadata": {},
   "outputs": [],
   "source": [
    "# Eliminar todas las filas que contengan valores perdidos en cualquiera de las columnas\n",
    "df_long_cleaned = df_long.dropna().reset_index(drop=True)\n",
    "\n",
    "# Mostrar el DataFrame resultante sin valores perdidos\n",
    "#print(df_long_cleaned)\n"
   ]
  },
  {
   "cell_type": "markdown",
   "metadata": {},
   "source": [
    "Habiendo realizado lo anterior, la base de datos complementante depurada"
   ]
  },
  {
   "cell_type": "code",
   "execution_count": 10,
   "metadata": {},
   "outputs": [],
   "source": [
    "df_long_cleaned.to_csv(\"bbdd/final2.csv\", sep=\";\", index=False, encoding=\"utf-8\")"
   ]
  }
 ],
 "metadata": {
  "kernelspec": {
   "display_name": "r-reticulate",
   "language": "python",
   "name": "python3"
  },
  "language_info": {
   "codemirror_mode": {
    "name": "ipython",
    "version": 3
   },
   "file_extension": ".py",
   "mimetype": "text/x-python",
   "name": "python",
   "nbconvert_exporter": "python",
   "pygments_lexer": "ipython3",
   "version": "3.9.6"
  }
 },
 "nbformat": 4,
 "nbformat_minor": 2
}
